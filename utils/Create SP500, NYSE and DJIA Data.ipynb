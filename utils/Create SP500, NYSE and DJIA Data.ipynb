{
 "cells": [
  {
   "cell_type": "markdown",
   "metadata": {},
   "source": [
    "# Extending OLPS Standard Dataset\n",
    "To avoid dataset selection and/or data-snooping biases, we created four new historical datasets from the four\n",
    "different markets (i.e., NYSE, DJIA, SP500, and TSX). The stock selection is made based on 2 important criteria:\n",
    "\n",
    "1) The selected stock must be listed in the index from the beginning of 2000 (since this is our starting point of test runs)\n",
    "\n",
    "2) Each selected stock must belong to one of the largest companies by market capitalization with high liquidity."
   ]
  },
  {
   "cell_type": "code",
   "execution_count": 1,
   "metadata": {},
   "outputs": [
    {
     "name": "stdout",
     "output_type": "stream",
     "text": [
      "Imports Complete!\n"
     ]
    }
   ],
   "source": [
    "# CREATES THE STOCK DATA CSV\n",
    "\n",
    "import yfinance as yf\n",
    "from pandas_datareader import data as pdr\n",
    "import pandas as pd\n",
    "import numpy as np\n",
    "import matplotlib.pyplot as plt\n",
    "from data import read_stock_history, normalize, write_to_h5py\n",
    "import h5py\n",
    "\n",
    "print(\"Imports Complete!\")"
   ]
  },
  {
   "cell_type": "code",
   "execution_count": 2,
   "metadata": {},
   "outputs": [],
   "source": [
    "# Dates\n",
    "date_start = \"1995-01-01\"\n",
    "date_end = \"2020-10-01\""
   ]
  },
  {
   "cell_type": "markdown",
   "metadata": {},
   "source": [
    "Dataset inspired by https://www.slickcharts.com/sp500"
   ]
  },
  {
   "cell_type": "code",
   "execution_count": 3,
   "metadata": {},
   "outputs": [],
   "source": [
    "# Apple : AAPL\n",
    "# Microsoft symbol: MSFT\n",
    "# Johnson & Johnson: JNJ\n",
    "# JPMorgan: JPM\n",
    "# Procter & Gamble: PG\n",
    "# UnitedHealth Group: UNH\n",
    "# Home Depot: HD\n",
    "# Walt Disney: DIS\n",
    "# Verizon Communications: VZ\n",
    "# Comcast: CMCSA\n",
    "# Adobe: ADBE\n",
    "# Pfizer: PFE\n",
    "# Bank of America: BAC\n",
    "# Intel: INTC\n",
    "# AT&T: T\n",
    "# Walmart: WMT\n",
    "# Merck & Co: MRK\n",
    "# Coca-Cola: KO\n",
    "# Pepsi: PEP\n",
    "# Abbot Labs: ABT\n",
    "# Thermo: TMO\n",
    "# CISCO: CSCO\n",
    "# Chevron: CVX\n",
    "# NIKE: NKE\n",
    "# Exxon: XOM\n",
    "\n",
    "#Dataset_Name = 'SP500'\n",
    "\n",
    "#Assets = ['AAPL', 'MSFT', 'JNJ', 'JPM', 'PG', 'UNH', 'HD', 'DIS', 'VZ', 'CMCSA', 'ADBE', 'PFE',\n",
    "#         'BAC', 'INTC', 'T', 'WMT', 'MRK', 'KO', 'PEP', 'ABT', 'TMO', 'CSCO', 'CVX', 'NKE', 'XOM']"
   ]
  },
  {
   "cell_type": "code",
   "execution_count": 4,
   "metadata": {},
   "outputs": [],
   "source": [
    "#Dataset_Name = 'DJIA'\n",
    "\n",
    "# https://www.cnbc.com/dow-30/\n",
    "\n",
    "# GS, CRM, V, DOW\n",
    "#Assets = ['UNH', 'HD', 'BA', 'AMGN', 'MSFT', 'MCD', 'HON', 'CAT', 'MMM', 'DIS', 'WMT',\n",
    "#         'JNJ', 'PG', 'NKE', 'TRV', 'IBM', 'AXP', 'AAPL', 'JPM', 'CVX', 'MRK', 'VZ', \n",
    "#          'KO', 'INTC', 'CSCO', 'WBA']"
   ]
  },
  {
   "cell_type": "code",
   "execution_count": 5,
   "metadata": {},
   "outputs": [],
   "source": [
    "#Dataset_Name = 'NYSE'\n",
    "\n",
    "#Assets = ['JPM', 'JNJ', 'WMT', 'BAC', 'PG', 'XOM', 'T', 'UNH', 'DIS',\n",
    "#         'VZ', 'HD', 'RDS-B', 'KO', 'MRK', 'CVX', 'WFC', 'PFE', 'TM', 'BA',\n",
    "#         'ORCL', 'NKE', 'MCD', 'MDT', 'ABT', 'BMY', 'UL', 'TOT', 'BHP', 'NVO',\n",
    "#         'AZN', 'TMO', 'RTX', 'BP', 'HON', 'LLY', 'UNP']"
   ]
  },
  {
   "cell_type": "code",
   "execution_count": 6,
   "metadata": {},
   "outputs": [],
   "source": [
    "Dataset_Name = 'Hegde'\n",
    "\n",
    "# https://www.semanticscholar.org/paper/Risk-aware-portfolio-construction-using-deep-policy-Hegde-Kumar/73b89a16f572d9c7d7bc1d04f8a4bb8d46125885\n",
    "\n",
    "Assets = ['CSX', 'DISH', 'EA', 'EBAY', 'HAS', 'ILMN', 'MAR', 'REGN', 'SBUX', 'FOX', 'FISV', \n",
    "          'ESRX', 'DLTR', 'CTSH', 'CSCO', 'PCLN', 'AMGN', 'WDC', 'NVDA', 'MSFT']\n",
    "\n",
    "# Dates\n",
    "date_start = \"2001-12-31\"\n",
    "date_end = \"2016-12-31\""
   ]
  },
  {
   "cell_type": "code",
   "execution_count": 7,
   "metadata": {},
   "outputs": [
    {
     "name": "stdout",
     "output_type": "stream",
     "text": [
      "[*********************100%***********************]  1 of 1 completed\n",
      "[*********************100%***********************]  1 of 1 completed\n",
      "[*********************100%***********************]  1 of 1 completed\n",
      "[*********************100%***********************]  1 of 1 completed\n",
      "[*********************100%***********************]  1 of 1 completed\n",
      "[*********************100%***********************]  1 of 1 completed\n",
      "[*********************100%***********************]  1 of 1 completed\n",
      "[*********************100%***********************]  1 of 1 completed\n",
      "[*********************100%***********************]  1 of 1 completed\n",
      "[*********************100%***********************]  1 of 1 completed\n",
      "\n",
      "1 Failed download:\n",
      "- FOX: Data doesn't exist for startDate = 1009753200, endDate = 1483138800\n",
      "[*********************100%***********************]  1 of 1 completed\n",
      "[*********************100%***********************]  1 of 1 completed\n",
      "[*********************100%***********************]  1 of 1 completed\n",
      "[*********************100%***********************]  1 of 1 completed\n",
      "[*********************100%***********************]  1 of 1 completed\n",
      "[*********************100%***********************]  1 of 1 completed\n",
      "\n",
      "1 Failed download:\n",
      "- PCLN: No data found for this date range, symbol may be delisted\n",
      "[*********************100%***********************]  1 of 1 completed\n",
      "[*********************100%***********************]  1 of 1 completed\n",
      "[*********************100%***********************]  1 of 1 completed\n",
      "[*********************100%***********************]  1 of 1 completed\n",
      "Number of Assets: 20\n",
      "Number of Steps: 3778\n"
     ]
    }
   ],
   "source": [
    "# Declare dictionary\n",
    "d = {}\n",
    "\n",
    "yf.pdr_override()\n",
    "\n",
    "for a in Assets:\n",
    "    d[a] = pdr.get_data_yahoo(a, start=date_start, end=date_end)\n",
    "\n",
    "print(\"Number of Assets: {}\".format(len(d)))\n",
    "print(\"Number of Steps: {}\".format(len(d[Assets[0]])))"
   ]
  },
  {
   "cell_type": "code",
   "execution_count": 11,
   "metadata": {},
   "outputs": [
    {
     "data": {
      "text/html": [
       "<div>\n",
       "<style scoped>\n",
       "    .dataframe tbody tr th:only-of-type {\n",
       "        vertical-align: middle;\n",
       "    }\n",
       "\n",
       "    .dataframe tbody tr th {\n",
       "        vertical-align: top;\n",
       "    }\n",
       "\n",
       "    .dataframe thead th {\n",
       "        text-align: right;\n",
       "    }\n",
       "</style>\n",
       "<table border=\"1\" class=\"dataframe\">\n",
       "  <thead>\n",
       "    <tr style=\"text-align: right;\">\n",
       "      <th></th>\n",
       "      <th>Open</th>\n",
       "      <th>High</th>\n",
       "      <th>Low</th>\n",
       "      <th>Close</th>\n",
       "      <th>Adj Close</th>\n",
       "      <th>Volume</th>\n",
       "    </tr>\n",
       "    <tr>\n",
       "      <th>Date</th>\n",
       "      <th></th>\n",
       "      <th></th>\n",
       "      <th></th>\n",
       "      <th></th>\n",
       "      <th></th>\n",
       "      <th></th>\n",
       "    </tr>\n",
       "  </thead>\n",
       "  <tbody>\n",
       "    <tr>\n",
       "      <td>2001-12-31</td>\n",
       "      <td>27.370001</td>\n",
       "      <td>27.709999</td>\n",
       "      <td>27.049999</td>\n",
       "      <td>27.469999</td>\n",
       "      <td>19.573988</td>\n",
       "      <td>2587900</td>\n",
       "    </tr>\n",
       "    <tr>\n",
       "      <td>2002-01-02</td>\n",
       "      <td>27.450001</td>\n",
       "      <td>28.799999</td>\n",
       "      <td>27.389999</td>\n",
       "      <td>28.750000</td>\n",
       "      <td>20.486061</td>\n",
       "      <td>4265400</td>\n",
       "    </tr>\n",
       "    <tr>\n",
       "      <td>2002-01-03</td>\n",
       "      <td>28.770000</td>\n",
       "      <td>29.200001</td>\n",
       "      <td>28.290001</td>\n",
       "      <td>28.490000</td>\n",
       "      <td>20.300798</td>\n",
       "      <td>3960700</td>\n",
       "    </tr>\n",
       "    <tr>\n",
       "      <td>2002-01-04</td>\n",
       "      <td>28.660000</td>\n",
       "      <td>29.049999</td>\n",
       "      <td>28.330000</td>\n",
       "      <td>28.590000</td>\n",
       "      <td>20.372053</td>\n",
       "      <td>2082400</td>\n",
       "    </tr>\n",
       "    <tr>\n",
       "      <td>2002-01-07</td>\n",
       "      <td>28.690001</td>\n",
       "      <td>29.350000</td>\n",
       "      <td>28.480000</td>\n",
       "      <td>28.920000</td>\n",
       "      <td>20.607197</td>\n",
       "      <td>3146300</td>\n",
       "    </tr>\n",
       "    <tr>\n",
       "      <td>...</td>\n",
       "      <td>...</td>\n",
       "      <td>...</td>\n",
       "      <td>...</td>\n",
       "      <td>...</td>\n",
       "      <td>...</td>\n",
       "      <td>...</td>\n",
       "    </tr>\n",
       "    <tr>\n",
       "      <td>2016-12-23</td>\n",
       "      <td>58.950001</td>\n",
       "      <td>59.529999</td>\n",
       "      <td>58.770000</td>\n",
       "      <td>58.889999</td>\n",
       "      <td>58.889999</td>\n",
       "      <td>528200</td>\n",
       "    </tr>\n",
       "    <tr>\n",
       "      <td>2016-12-27</td>\n",
       "      <td>59.049999</td>\n",
       "      <td>59.790001</td>\n",
       "      <td>58.919998</td>\n",
       "      <td>59.549999</td>\n",
       "      <td>59.549999</td>\n",
       "      <td>708200</td>\n",
       "    </tr>\n",
       "    <tr>\n",
       "      <td>2016-12-28</td>\n",
       "      <td>59.509998</td>\n",
       "      <td>59.680000</td>\n",
       "      <td>58.709999</td>\n",
       "      <td>58.950001</td>\n",
       "      <td>58.950001</td>\n",
       "      <td>874800</td>\n",
       "    </tr>\n",
       "    <tr>\n",
       "      <td>2016-12-29</td>\n",
       "      <td>58.860001</td>\n",
       "      <td>59.090000</td>\n",
       "      <td>58.119999</td>\n",
       "      <td>58.400002</td>\n",
       "      <td>58.400002</td>\n",
       "      <td>1375900</td>\n",
       "    </tr>\n",
       "    <tr>\n",
       "      <td>2016-12-30</td>\n",
       "      <td>58.410000</td>\n",
       "      <td>58.750000</td>\n",
       "      <td>57.689999</td>\n",
       "      <td>57.930000</td>\n",
       "      <td>57.930000</td>\n",
       "      <td>1277200</td>\n",
       "    </tr>\n",
       "  </tbody>\n",
       "</table>\n",
       "<p>3778 rows × 6 columns</p>\n",
       "</div>"
      ],
      "text/plain": [
       "                 Open       High        Low      Close  Adj Close   Volume\n",
       "Date                                                                      \n",
       "2001-12-31  27.370001  27.709999  27.049999  27.469999  19.573988  2587900\n",
       "2002-01-02  27.450001  28.799999  27.389999  28.750000  20.486061  4265400\n",
       "2002-01-03  28.770000  29.200001  28.290001  28.490000  20.300798  3960700\n",
       "2002-01-04  28.660000  29.049999  28.330000  28.590000  20.372053  2082400\n",
       "2002-01-07  28.690001  29.350000  28.480000  28.920000  20.607197  3146300\n",
       "...               ...        ...        ...        ...        ...      ...\n",
       "2016-12-23  58.950001  59.529999  58.770000  58.889999  58.889999   528200\n",
       "2016-12-27  59.049999  59.790001  58.919998  59.549999  59.549999   708200\n",
       "2016-12-28  59.509998  59.680000  58.709999  58.950001  58.950001   874800\n",
       "2016-12-29  58.860001  59.090000  58.119999  58.400002  58.400002  1375900\n",
       "2016-12-30  58.410000  58.750000  57.689999  57.930000  57.930000  1277200\n",
       "\n",
       "[3778 rows x 6 columns]"
      ]
     },
     "execution_count": 11,
     "metadata": {},
     "output_type": "execute_result"
    }
   ],
   "source": [
    "d['DISH']"
   ]
  },
  {
   "cell_type": "code",
   "execution_count": 8,
   "metadata": {},
   "outputs": [
    {
     "name": "stdout",
     "output_type": "stream",
     "text": [
      "CSX: 2001-12-31 00:00:00\n",
      "DISH: 2001-12-31 00:00:00\n",
      "EA: 2001-12-31 00:00:00\n",
      "EBAY: 2001-12-31 00:00:00\n",
      "HAS: 2001-12-31 00:00:00\n",
      "ILMN: 2001-12-31 00:00:00\n",
      "MAR: 2001-12-31 00:00:00\n",
      "REGN: 2001-12-31 00:00:00\n",
      "SBUX: 2001-12-31 00:00:00\n"
     ]
    },
    {
     "ename": "IndexError",
     "evalue": "index 0 is out of bounds for axis 0 with size 0",
     "output_type": "error",
     "traceback": [
      "\u001b[0;31m---------------------------------------------------------------------------\u001b[0m",
      "\u001b[0;31mIndexError\u001b[0m                                Traceback (most recent call last)",
      "\u001b[0;32m<ipython-input-8-ff0f3595592a>\u001b[0m in \u001b[0;36m<module>\u001b[0;34m\u001b[0m\n\u001b[1;32m      1\u001b[0m \u001b[0;31m# Check if all start at desired date\u001b[0m\u001b[0;34m\u001b[0m\u001b[0;34m\u001b[0m\u001b[0;34m\u001b[0m\u001b[0m\n\u001b[1;32m      2\u001b[0m \u001b[0;32mfor\u001b[0m \u001b[0ma\u001b[0m \u001b[0;32min\u001b[0m \u001b[0mAssets\u001b[0m\u001b[0;34m:\u001b[0m\u001b[0;34m\u001b[0m\u001b[0;34m\u001b[0m\u001b[0m\n\u001b[0;32m----> 3\u001b[0;31m     \u001b[0mprint\u001b[0m\u001b[0;34m(\u001b[0m\u001b[0;34m\"{}: {}\"\u001b[0m\u001b[0;34m.\u001b[0m\u001b[0mformat\u001b[0m\u001b[0;34m(\u001b[0m\u001b[0ma\u001b[0m\u001b[0;34m,\u001b[0m\u001b[0md\u001b[0m\u001b[0;34m[\u001b[0m\u001b[0ma\u001b[0m\u001b[0;34m]\u001b[0m\u001b[0;34m.\u001b[0m\u001b[0mindex\u001b[0m\u001b[0;34m[\u001b[0m\u001b[0;36m0\u001b[0m\u001b[0;34m]\u001b[0m\u001b[0;34m)\u001b[0m\u001b[0;34m)\u001b[0m\u001b[0;34m\u001b[0m\u001b[0;34m\u001b[0m\u001b[0m\n\u001b[0m",
      "\u001b[0;32m~/anaconda3/envs/tensor_keras_portfolio/lib/python3.7/site-packages/pandas/core/indexes/base.py\u001b[0m in \u001b[0;36m__getitem__\u001b[0;34m(self, key)\u001b[0m\n\u001b[1;32m   4278\u001b[0m         \u001b[0;32mif\u001b[0m \u001b[0mis_scalar\u001b[0m\u001b[0;34m(\u001b[0m\u001b[0mkey\u001b[0m\u001b[0;34m)\u001b[0m\u001b[0;34m:\u001b[0m\u001b[0;34m\u001b[0m\u001b[0;34m\u001b[0m\u001b[0m\n\u001b[1;32m   4279\u001b[0m             \u001b[0mkey\u001b[0m \u001b[0;34m=\u001b[0m \u001b[0mcom\u001b[0m\u001b[0;34m.\u001b[0m\u001b[0mcast_scalar_indexer\u001b[0m\u001b[0;34m(\u001b[0m\u001b[0mkey\u001b[0m\u001b[0;34m)\u001b[0m\u001b[0;34m\u001b[0m\u001b[0;34m\u001b[0m\u001b[0m\n\u001b[0;32m-> 4280\u001b[0;31m             \u001b[0;32mreturn\u001b[0m \u001b[0mgetitem\u001b[0m\u001b[0;34m(\u001b[0m\u001b[0mkey\u001b[0m\u001b[0;34m)\u001b[0m\u001b[0;34m\u001b[0m\u001b[0;34m\u001b[0m\u001b[0m\n\u001b[0m\u001b[1;32m   4281\u001b[0m \u001b[0;34m\u001b[0m\u001b[0m\n\u001b[1;32m   4282\u001b[0m         \u001b[0;32mif\u001b[0m \u001b[0misinstance\u001b[0m\u001b[0;34m(\u001b[0m\u001b[0mkey\u001b[0m\u001b[0;34m,\u001b[0m \u001b[0mslice\u001b[0m\u001b[0;34m)\u001b[0m\u001b[0;34m:\u001b[0m\u001b[0;34m\u001b[0m\u001b[0;34m\u001b[0m\u001b[0m\n",
      "\u001b[0;31mIndexError\u001b[0m: index 0 is out of bounds for axis 0 with size 0"
     ]
    }
   ],
   "source": [
    "# Check if all start at desired date\n",
    "for a in Assets:\n",
    "    print(\"{}: {}\".format(a,d[a].index[0]))"
   ]
  },
  {
   "cell_type": "code",
   "execution_count": null,
   "metadata": {},
   "outputs": [],
   "source": [
    "for a in Assets:\n",
    "    # Interpolate\n",
    "    d[a] = d[a].interpolate(method='polynomial', order=2)\n",
    "    # Daily Returns \n",
    "    d[a]['Daily Return'] = d[a][\"Adj Close\"].pct_change(1) # 1 for ONE DAY lookback\n",
    "    # Log Return\n",
    "    d[a]['Log Return'] = np.log(d[a][\"Adj Close\"]/d[a][\"Adj Close\"].shift(1))\n",
    "    # Add Code\n",
    "    d[a]['Code'] = a\n",
    "    \n",
    "d[Assets[0]].head()"
   ]
  },
  {
   "cell_type": "code",
   "execution_count": null,
   "metadata": {},
   "outputs": [],
   "source": [
    "# Check if all start correctly\n",
    "for a in Assets:\n",
    "    print(a, \": \", d[a].index[0], \", \", d[a]['Close'].iloc[0])"
   ]
  },
  {
   "cell_type": "code",
   "execution_count": null,
   "metadata": {},
   "outputs": [],
   "source": [
    "# Lets put all of this into one Dataframe\n",
    "frames = []\n",
    "for a in Assets:\n",
    "    frames.append(d[a])\n",
    "\n",
    "result_df = pd.concat(frames)\n",
    "\n",
    "result_df.head()"
   ]
  },
  {
   "cell_type": "code",
   "execution_count": null,
   "metadata": {},
   "outputs": [],
   "source": [
    "# Save as CSV\n",
    "#pd.DataFrame(result).to_csv(\n",
    "#            'datasets/stock_data.csv', index=True)"
   ]
  },
  {
   "cell_type": "code",
   "execution_count": null,
   "metadata": {},
   "outputs": [],
   "source": [
    "# PLOT ADJ CLOSE\n",
    "plt.figure(figsize=(8, 6), dpi=100)\n",
    "for a in Assets:\n",
    "    plt.plot(d[a]['Adj Close'],label=a)\n",
    "\n",
    "plt.legend()\n",
    "plt.show()"
   ]
  },
  {
   "cell_type": "code",
   "execution_count": null,
   "metadata": {},
   "outputs": [],
   "source": [
    "# PLOT CLOSE\n",
    "plt.figure(figsize=(8, 6), dpi=100)\n",
    "for a in Assets:\n",
    "    plt.plot(d[a]['Close'],label=a)\n",
    "\n",
    "plt.legend()\n",
    "plt.show()"
   ]
  },
  {
   "cell_type": "markdown",
   "metadata": {},
   "source": [
    "## Save H5 with Open, Low, High, Close\n",
    "Result is to be (assets, dates, features)"
   ]
  },
  {
   "cell_type": "code",
   "execution_count": null,
   "metadata": {
    "scrolled": true
   },
   "outputs": [],
   "source": [
    "data = []\n",
    "\n",
    "for a in Assets:\n",
    "    data.append(d[a].values.tolist())\n",
    "    \n",
    "dates = d[Assets[0]].index.tolist()\n",
    "dates = [date_obj.strftime('%d/%m/%Y') for date_obj in d[Assets[0]].index.tolist()]"
   ]
  },
  {
   "cell_type": "code",
   "execution_count": null,
   "metadata": {},
   "outputs": [],
   "source": [
    "data[0][0]"
   ]
  },
  {
   "cell_type": "code",
   "execution_count": null,
   "metadata": {},
   "outputs": [],
   "source": [
    "_result = []\n",
    "for i in range(len(data)): # ASSET\n",
    "    _asset = []\n",
    "    for j in range(len(data[0])): # DATES\n",
    "        _asset.append(data[i][j][:4])\n",
    "    _result.append(_asset)"
   ]
  },
  {
   "cell_type": "code",
   "execution_count": null,
   "metadata": {},
   "outputs": [],
   "source": [
    "result = np.array(_result)"
   ]
  },
  {
   "cell_type": "code",
   "execution_count": null,
   "metadata": {
    "scrolled": true
   },
   "outputs": [],
   "source": [
    "result"
   ]
  },
  {
   "cell_type": "code",
   "execution_count": null,
   "metadata": {},
   "outputs": [],
   "source": [
    "result.shape"
   ]
  },
  {
   "cell_type": "code",
   "execution_count": null,
   "metadata": {},
   "outputs": [],
   "source": [
    "abb = [abbr.encode() for abbr in Assets]\n",
    "write_to_h5py(result, abb, dates, \"datasets/{}.h5\".format(Dataset_Name))"
   ]
  },
  {
   "cell_type": "code",
   "execution_count": null,
   "metadata": {},
   "outputs": [],
   "source": [
    "Dataset_Name = 'DJIA'"
   ]
  },
  {
   "cell_type": "code",
   "execution_count": null,
   "metadata": {},
   "outputs": [],
   "source": [
    "with h5py.File(\"datasets/{}.h5\".format(Dataset_Name), 'r') as f:\n",
    "    history = f['history'][:]\n",
    "    abbreviation = f['abbreviation'][:].tolist()\n",
    "    dates = f['dates'][:].tolist()"
   ]
  },
  {
   "cell_type": "code",
   "execution_count": null,
   "metadata": {},
   "outputs": [],
   "source": [
    "import datetime\n",
    "dates = [datetime.datetime.strptime(date_str, '%d/%m/%Y') for date_str in dates]"
   ]
  },
  {
   "cell_type": "code",
   "execution_count": null,
   "metadata": {},
   "outputs": [],
   "source": [
    "dates"
   ]
  },
  {
   "cell_type": "code",
   "execution_count": null,
   "metadata": {
    "scrolled": true
   },
   "outputs": [],
   "source": [
    "history"
   ]
  },
  {
   "cell_type": "code",
   "execution_count": null,
   "metadata": {},
   "outputs": [],
   "source": [
    "abbreviation"
   ]
  },
  {
   "cell_type": "code",
   "execution_count": null,
   "metadata": {},
   "outputs": [],
   "source": [
    "len(abbreviation)"
   ]
  },
  {
   "cell_type": "code",
   "execution_count": null,
   "metadata": {},
   "outputs": [],
   "source": [
    "history[10]"
   ]
  },
  {
   "cell_type": "code",
   "execution_count": null,
   "metadata": {},
   "outputs": [],
   "source": []
  }
 ],
 "metadata": {
  "kernelspec": {
   "display_name": "Python 3",
   "language": "python",
   "name": "python3"
  },
  "language_info": {
   "codemirror_mode": {
    "name": "ipython",
    "version": 3
   },
   "file_extension": ".py",
   "mimetype": "text/x-python",
   "name": "python",
   "nbconvert_exporter": "python",
   "pygments_lexer": "ipython3",
   "version": "3.7.6"
  }
 },
 "nbformat": 4,
 "nbformat_minor": 4
}
