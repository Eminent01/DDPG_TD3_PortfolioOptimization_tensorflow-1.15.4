{
 "cells": [
  {
   "cell_type": "markdown",
   "metadata": {},
   "source": [
    "## Dataset Conversion\n",
    "In this Jupyter notebook we'll be converting the official and standard on-line portfolio selection datasets (saved in standard datasets folder) aquired into the format required by our application. "
   ]
  },
  {
   "cell_type": "markdown",
   "metadata": {},
   "source": [
    "### Imports"
   ]
  },
  {
   "cell_type": "code",
   "execution_count": 1,
   "metadata": {},
   "outputs": [
    {
     "name": "stdout",
     "output_type": "stream",
     "text": [
      "Imports Complete!\n"
     ]
    }
   ],
   "source": [
    "import pandas as pd\n",
    "from datetime import datetime\n",
    "print(\"Imports Complete!\")"
   ]
  },
  {
   "cell_type": "markdown",
   "metadata": {},
   "source": [
    "### NYSE(O), NYSE(N)"
   ]
  },
  {
   "cell_type": "code",
   "execution_count": 2,
   "metadata": {},
   "outputs": [
    {
     "data": {
      "text/html": [
       "<div>\n",
       "<style scoped>\n",
       "    .dataframe tbody tr th:only-of-type {\n",
       "        vertical-align: middle;\n",
       "    }\n",
       "\n",
       "    .dataframe tbody tr th {\n",
       "        vertical-align: top;\n",
       "    }\n",
       "\n",
       "    .dataframe thead th {\n",
       "        text-align: right;\n",
       "    }\n",
       "</style>\n",
       "<table border=\"1\" class=\"dataframe\">\n",
       "  <thead>\n",
       "    <tr style=\"text-align: right;\">\n",
       "      <th></th>\n",
       "      <th>A</th>\n",
       "      <th>B</th>\n",
       "      <th>C</th>\n",
       "      <th>D</th>\n",
       "      <th>E</th>\n",
       "      <th>F</th>\n",
       "      <th>G</th>\n",
       "      <th>H</th>\n",
       "      <th>I</th>\n",
       "      <th>J</th>\n",
       "      <th>...</th>\n",
       "      <th>N</th>\n",
       "      <th>O</th>\n",
       "      <th>P</th>\n",
       "      <th>Q</th>\n",
       "      <th>R</th>\n",
       "      <th>S</th>\n",
       "      <th>T</th>\n",
       "      <th>U</th>\n",
       "      <th>V</th>\n",
       "      <th>W</th>\n",
       "    </tr>\n",
       "  </thead>\n",
       "  <tbody>\n",
       "    <tr>\n",
       "      <td>0</td>\n",
       "      <td>0.997510</td>\n",
       "      <td>0.986480</td>\n",
       "      <td>0.992200</td>\n",
       "      <td>0.991950</td>\n",
       "      <td>0.956880</td>\n",
       "      <td>0.986380</td>\n",
       "      <td>0.984860</td>\n",
       "      <td>0.978110</td>\n",
       "      <td>0.988890</td>\n",
       "      <td>0.990430</td>\n",
       "      <td>...</td>\n",
       "      <td>0.986190</td>\n",
       "      <td>1.002620</td>\n",
       "      <td>1.033330</td>\n",
       "      <td>0.986090</td>\n",
       "      <td>0.990710</td>\n",
       "      <td>0.996830</td>\n",
       "      <td>0.984500</td>\n",
       "      <td>0.986840</td>\n",
       "      <td>0.996710</td>\n",
       "      <td>1.008920</td>\n",
       "    </tr>\n",
       "    <tr>\n",
       "      <td>1</td>\n",
       "      <td>1.007425</td>\n",
       "      <td>1.000005</td>\n",
       "      <td>0.994165</td>\n",
       "      <td>1.002008</td>\n",
       "      <td>0.935274</td>\n",
       "      <td>0.990937</td>\n",
       "      <td>0.977286</td>\n",
       "      <td>0.953452</td>\n",
       "      <td>0.993360</td>\n",
       "      <td>0.968106</td>\n",
       "      <td>...</td>\n",
       "      <td>0.972314</td>\n",
       "      <td>1.010491</td>\n",
       "      <td>1.100000</td>\n",
       "      <td>0.973912</td>\n",
       "      <td>0.973422</td>\n",
       "      <td>0.993660</td>\n",
       "      <td>0.984500</td>\n",
       "      <td>0.980258</td>\n",
       "      <td>0.950821</td>\n",
       "      <td>1.000001</td>\n",
       "    </tr>\n",
       "    <tr>\n",
       "      <td>2</td>\n",
       "      <td>1.004937</td>\n",
       "      <td>0.969574</td>\n",
       "      <td>0.978586</td>\n",
       "      <td>0.999994</td>\n",
       "      <td>0.913669</td>\n",
       "      <td>0.986379</td>\n",
       "      <td>0.969712</td>\n",
       "      <td>0.945233</td>\n",
       "      <td>0.988890</td>\n",
       "      <td>0.963323</td>\n",
       "      <td>...</td>\n",
       "      <td>0.989622</td>\n",
       "      <td>0.994747</td>\n",
       "      <td>1.066670</td>\n",
       "      <td>0.965224</td>\n",
       "      <td>0.965421</td>\n",
       "      <td>0.992060</td>\n",
       "      <td>0.990712</td>\n",
       "      <td>0.982454</td>\n",
       "      <td>0.947532</td>\n",
       "      <td>1.004481</td>\n",
       "    </tr>\n",
       "    <tr>\n",
       "      <td>3</td>\n",
       "      <td>1.007419</td>\n",
       "      <td>0.966191</td>\n",
       "      <td>0.966931</td>\n",
       "      <td>1.005974</td>\n",
       "      <td>0.906497</td>\n",
       "      <td>1.009115</td>\n",
       "      <td>0.972224</td>\n",
       "      <td>0.948003</td>\n",
       "      <td>1.000005</td>\n",
       "      <td>0.969700</td>\n",
       "      <td>...</td>\n",
       "      <td>0.989622</td>\n",
       "      <td>0.992121</td>\n",
       "      <td>1.100004</td>\n",
       "      <td>0.975659</td>\n",
       "      <td>0.961424</td>\n",
       "      <td>1.001604</td>\n",
       "      <td>0.982925</td>\n",
       "      <td>0.995609</td>\n",
       "      <td>0.934418</td>\n",
       "      <td>1.008921</td>\n",
       "    </tr>\n",
       "    <tr>\n",
       "      <td>4</td>\n",
       "      <td>1.019790</td>\n",
       "      <td>0.986481</td>\n",
       "      <td>0.961091</td>\n",
       "      <td>1.007986</td>\n",
       "      <td>0.884895</td>\n",
       "      <td>1.022738</td>\n",
       "      <td>0.964650</td>\n",
       "      <td>0.958905</td>\n",
       "      <td>1.002165</td>\n",
       "      <td>0.974481</td>\n",
       "      <td>...</td>\n",
       "      <td>0.999993</td>\n",
       "      <td>0.997369</td>\n",
       "      <td>1.133334</td>\n",
       "      <td>0.979132</td>\n",
       "      <td>0.962779</td>\n",
       "      <td>0.992059</td>\n",
       "      <td>0.984498</td>\n",
       "      <td>0.999999</td>\n",
       "      <td>0.904909</td>\n",
       "      <td>1.017880</td>\n",
       "    </tr>\n",
       "  </tbody>\n",
       "</table>\n",
       "<p>5 rows × 23 columns</p>\n",
       "</div>"
      ],
      "text/plain": [
       "          A         B         C         D         E         F         G  \\\n",
       "0  0.997510  0.986480  0.992200  0.991950  0.956880  0.986380  0.984860   \n",
       "1  1.007425  1.000005  0.994165  1.002008  0.935274  0.990937  0.977286   \n",
       "2  1.004937  0.969574  0.978586  0.999994  0.913669  0.986379  0.969712   \n",
       "3  1.007419  0.966191  0.966931  1.005974  0.906497  1.009115  0.972224   \n",
       "4  1.019790  0.986481  0.961091  1.007986  0.884895  1.022738  0.964650   \n",
       "\n",
       "          H         I         J  ...         N         O         P         Q  \\\n",
       "0  0.978110  0.988890  0.990430  ...  0.986190  1.002620  1.033330  0.986090   \n",
       "1  0.953452  0.993360  0.968106  ...  0.972314  1.010491  1.100000  0.973912   \n",
       "2  0.945233  0.988890  0.963323  ...  0.989622  0.994747  1.066670  0.965224   \n",
       "3  0.948003  1.000005  0.969700  ...  0.989622  0.992121  1.100004  0.975659   \n",
       "4  0.958905  1.002165  0.974481  ...  0.999993  0.997369  1.133334  0.979132   \n",
       "\n",
       "          R         S         T         U         V         W  \n",
       "0  0.990710  0.996830  0.984500  0.986840  0.996710  1.008920  \n",
       "1  0.973422  0.993660  0.984500  0.980258  0.950821  1.000001  \n",
       "2  0.965421  0.992060  0.990712  0.982454  0.947532  1.004481  \n",
       "3  0.961424  1.001604  0.982925  0.995609  0.934418  1.008921  \n",
       "4  0.962779  0.992059  0.984498  0.999999  0.904909  1.017880  \n",
       "\n",
       "[5 rows x 23 columns]"
      ]
     },
     "execution_count": 2,
     "metadata": {},
     "output_type": "execute_result"
    }
   ],
   "source": [
    "# Read original CSV\n",
    "orig_df = pd.read_csv(\"standard_datasets/nyse_n.csv\")\n",
    "orig_df.head()"
   ]
  },
  {
   "cell_type": "code",
   "execution_count": 3,
   "metadata": {},
   "outputs": [
    {
     "data": {
      "text/plain": [
       "Index(['A', 'B', 'C', 'D', 'E', 'F', 'G', 'H', 'I', 'J', 'K', 'L', 'M', 'N',\n",
       "       'O', 'P', 'Q', 'R', 'S', 'T', 'U', 'V', 'W'],\n",
       "      dtype='object')"
      ]
     },
     "execution_count": 3,
     "metadata": {},
     "output_type": "execute_result"
    }
   ],
   "source": [
    "orig_df.columns"
   ]
  },
  {
   "cell_type": "code",
   "execution_count": 4,
   "metadata": {},
   "outputs": [
    {
     "data": {
      "text/html": [
       "<div>\n",
       "<style scoped>\n",
       "    .dataframe tbody tr th:only-of-type {\n",
       "        vertical-align: middle;\n",
       "    }\n",
       "\n",
       "    .dataframe tbody tr th {\n",
       "        vertical-align: top;\n",
       "    }\n",
       "\n",
       "    .dataframe thead th {\n",
       "        text-align: right;\n",
       "    }\n",
       "</style>\n",
       "<table border=\"1\" class=\"dataframe\">\n",
       "  <thead>\n",
       "    <tr style=\"text-align: right;\">\n",
       "      <th></th>\n",
       "      <th>Close</th>\n",
       "      <th>Code</th>\n",
       "    </tr>\n",
       "    <tr>\n",
       "      <th>Date</th>\n",
       "      <th></th>\n",
       "      <th></th>\n",
       "    </tr>\n",
       "  </thead>\n",
       "  <tbody>\n",
       "    <tr>\n",
       "      <td>2020-09-30</td>\n",
       "      <td>0.997510</td>\n",
       "      <td>A</td>\n",
       "    </tr>\n",
       "    <tr>\n",
       "      <td>2020-10-01</td>\n",
       "      <td>1.007425</td>\n",
       "      <td>A</td>\n",
       "    </tr>\n",
       "    <tr>\n",
       "      <td>2020-10-02</td>\n",
       "      <td>1.004937</td>\n",
       "      <td>A</td>\n",
       "    </tr>\n",
       "    <tr>\n",
       "      <td>2020-10-03</td>\n",
       "      <td>1.007419</td>\n",
       "      <td>A</td>\n",
       "    </tr>\n",
       "    <tr>\n",
       "      <td>2020-10-04</td>\n",
       "      <td>1.019790</td>\n",
       "      <td>A</td>\n",
       "    </tr>\n",
       "  </tbody>\n",
       "</table>\n",
       "</div>"
      ],
      "text/plain": [
       "               Close Code\n",
       "Date                     \n",
       "2020-09-30  0.997510    A\n",
       "2020-10-01  1.007425    A\n",
       "2020-10-02  1.004937    A\n",
       "2020-10-03  1.007419    A\n",
       "2020-10-04  1.019790    A"
      ]
     },
     "execution_count": 4,
     "metadata": {},
     "output_type": "execute_result"
    }
   ],
   "source": [
    "# Generate list of fake dates\n",
    "datelist = pd.date_range(datetime.today(), periods=len(orig_df)).tolist()\n",
    "\n",
    "# Convert\n",
    "data = []\n",
    "for i in range(len(orig_df.columns)):\n",
    "    for j in range(len(orig_df)):\n",
    "        data.append([datelist[j].strftime('%Y-%m-%d'), orig_df[orig_df.columns[i]][j], orig_df.columns[i]])\n",
    "        \n",
    "# Create the pandas DataFrame \n",
    "new_df = pd.DataFrame(data, columns = ['Date', 'Open' 'Close', 'Code']) \n",
    "new_df = new_df.set_index('Date')\n",
    "\n",
    "new_df.head()"
   ]
  },
  {
   "cell_type": "code",
   "execution_count": 5,
   "metadata": {},
   "outputs": [],
   "source": [
    "# Save \n",
    "pd.DataFrame(new_df).to_csv('nyse_n.csv', index=True)"
   ]
  },
  {
   "cell_type": "code",
   "execution_count": 6,
   "metadata": {},
   "outputs": [
    {
     "name": "stdout",
     "output_type": "stream",
     "text": [
      "Dataset is from:  2020-09-30 to:  2038-05-09\n"
     ]
    }
   ],
   "source": [
    "print(\"Dataset is from: \", datelist[0].strftime('%Y-%m-%d'), \"to: \", datelist[-1].strftime('%Y-%m-%d'))"
   ]
  },
  {
   "cell_type": "code",
   "execution_count": null,
   "metadata": {},
   "outputs": [],
   "source": []
  }
 ],
 "metadata": {
  "kernelspec": {
   "display_name": "Python 3",
   "language": "python",
   "name": "python3"
  },
  "language_info": {
   "codemirror_mode": {
    "name": "ipython",
    "version": 3
   },
   "file_extension": ".py",
   "mimetype": "text/x-python",
   "name": "python",
   "nbconvert_exporter": "python",
   "pygments_lexer": "ipython3",
   "version": "3.7.6"
  }
 },
 "nbformat": 4,
 "nbformat_minor": 4
}
