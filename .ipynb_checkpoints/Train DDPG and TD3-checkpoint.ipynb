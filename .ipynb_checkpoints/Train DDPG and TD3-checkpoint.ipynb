{
 "cells": [
  {
   "cell_type": "code",
   "execution_count": 12,
   "metadata": {},
   "outputs": [
    {
     "name": "stdout",
     "output_type": "stream",
     "text": [
      "Imports Complete!\n"
     ]
    }
   ],
   "source": [
    "from __future__ import print_function, division\n",
    "\n",
    "from model.ddpg.actor import ActorNetwork\n",
    "from model.ddpg.critic import CriticNetwork\n",
    "from model.ddpg.ddpg import DDPG\n",
    "from model.ornstein_uhlenbeck import OrnsteinUhlenbeckActionNoise\n",
    "from model.td3.actor import TD3ActorNetwork\n",
    "from model.td3.critic import TD3CriticNetwork\n",
    "from model.td3.td3 import TD3\n",
    "from stock_trading import StockActor, StockCritic, TD3StockActor, TD3StockCritic, obs_normalizer, get_model_path, get_result_path, test_model, get_variable_scope, test_model_multiple\n",
    "\n",
    "from environment.portfolio import PortfolioEnv\n",
    "from utils.data import read_stock_history, normalize\n",
    "\n",
    "import numpy as np\n",
    "import tflearn\n",
    "import tensorflow as tf\n",
    "import argparse\n",
    "import pprint\n",
    "import pandas as pd\n",
    "import matplotlib.pyplot as plt\n",
    "from technical_indicators.technical_indicators import moving_average, exponential_moving_average, momentum, rate_of_change, bollinger_bands, trix, standard_deviation\n",
    "\n",
    "print(\"Imports Complete!\")"
   ]
  },
  {
   "cell_type": "code",
   "execution_count": 2,
   "metadata": {},
   "outputs": [
    {
     "name": "stdout",
     "output_type": "stream",
     "text": [
      "Model: DDPG-lstm-5\n"
     ]
    }
   ],
   "source": [
    "# Main Configuration\n",
    "framework = 'DDPG'\n",
    "predictor_type = 'lstm'\n",
    "window_length = 5\n",
    "use_batch_norm = True\n",
    "log_return = True\n",
    "config_file_path = 'config/stock.json'\n",
    "\n",
    "# Validation\n",
    "assert framework in ['DDPG', 'TD3'], 'Framework must be either PG, DDPG or TD3'\n",
    "assert predictor_type in ['cnn', 'lstm'], 'Predictor must be either cnn or lstm'\n",
    "\n",
    "# Print\n",
    "print(\"Model: {}-{}-{}\".format(framework, predictor_type, window_length))"
   ]
  },
  {
   "cell_type": "code",
   "execution_count": 3,
   "metadata": {},
   "outputs": [
    {
     "name": "stdout",
     "output_type": "stream",
     "text": [
      "Stock History Shape: (26, 6483, 4)\n",
      "Full Stock History Date Range: 03/01/1995 -> 30/09/2020\n"
     ]
    }
   ],
   "source": [
    "# Stock History\n",
    "dataset_name = 'DJIA'\n",
    "history, assets, date_list = read_stock_history(filepath='utils/datasets/{}.h5'.format(dataset_name))\n",
    "history = history[:, :, :4]\n",
    "print(\"Stock History Shape: {}\".format(history.shape))\n",
    "print(\"Full Stock History Date Range: {} -> {}\".format(date_list[0], date_list[-1]))"
   ]
  },
  {
   "cell_type": "code",
   "execution_count": 4,
   "metadata": {},
   "outputs": [
    {
     "name": "stdout",
     "output_type": "stream",
     "text": [
      "Training Date Range: 10/01/1995 -> 25/01/2017 (5550 Steps)\n",
      "Testing Date Range: 26/01/2017 -> 29/09/2020 (925 Steps)\n"
     ]
    }
   ],
   "source": [
    "# Training/Testing Date Range\n",
    "full_length = len(date_list)\n",
    "train_test_ratio = 6/7\n",
    "train_start_date = date_list[window_length]\n",
    "train_end_date = date_list[(int)(full_length * train_test_ratio)-1]\n",
    "test_start_date = date_list[(int)(full_length * train_test_ratio)]\n",
    "test_end_date = date_list[full_length-2]\n",
    "print(\"Training Date Range: {} -> {} ({} Steps)\".format(train_start_date, train_end_date, \n",
    "                                                    (int)(date_list.index(train_end_date) - date_list.index(train_start_date))))\n",
    "print(\"Testing Date Range: {} -> {} ({} Steps)\".format(test_start_date, test_end_date, \n",
    "                                                    (int)(date_list.index(test_end_date) - date_list.index(test_start_date))))"
   ]
  },
  {
   "cell_type": "code",
   "execution_count": 5,
   "metadata": {},
   "outputs": [
    {
     "name": "stdout",
     "output_type": "stream",
     "text": [
      "Episode Steps: 1000\n"
     ]
    }
   ],
   "source": [
    "# Episode steps\n",
    "steps = 1000\n",
    "print(\"Episode Steps: {}\".format(steps))"
   ]
  },
  {
   "cell_type": "code",
   "execution_count": 16,
   "metadata": {},
   "outputs": [
    {
     "name": "stdout",
     "output_type": "stream",
     "text": [
      "history_close.shape: (26, 6483)\n"
     ]
    },
    {
     "ename": "NameError",
     "evalue": "name 'window' is not defined",
     "output_type": "error",
     "traceback": [
      "\u001b[0;31m---------------------------------------------------------------------------\u001b[0m",
      "\u001b[0;31mNameError\u001b[0m                                 Traceback (most recent call last)",
      "\u001b[0;32m<ipython-input-16-bebf00a1ae1d>\u001b[0m in \u001b[0;36m<module>\u001b[0;34m\u001b[0m\n\u001b[1;32m     11\u001b[0m     \u001b[0mti\u001b[0m\u001b[0;34m.\u001b[0m\u001b[0mappend\u001b[0m\u001b[0;34m(\u001b[0m\u001b[0;34m[\u001b[0m\u001b[0mrate_of_change\u001b[0m\u001b[0;34m(\u001b[0m\u001b[0mhistory_close\u001b[0m\u001b[0;34m[\u001b[0m\u001b[0mi\u001b[0m\u001b[0;34m]\u001b[0m\u001b[0;34m,\u001b[0m \u001b[0mwindow_length\u001b[0m\u001b[0;34m)\u001b[0m\u001b[0;34m]\u001b[0m\u001b[0;34m)\u001b[0m\u001b[0;34m\u001b[0m\u001b[0;34m\u001b[0m\u001b[0m\n\u001b[1;32m     12\u001b[0m \u001b[0;34m\u001b[0m\u001b[0m\n\u001b[0;32m---> 13\u001b[0;31m     \u001b[0mUpper\u001b[0m\u001b[0;34m,\u001b[0m \u001b[0mLower\u001b[0m \u001b[0;34m=\u001b[0m \u001b[0mbollinger_bands\u001b[0m\u001b[0;34m(\u001b[0m\u001b[0mhistory_close\u001b[0m\u001b[0;34m[\u001b[0m\u001b[0mi\u001b[0m\u001b[0;34m]\u001b[0m\u001b[0;34m,\u001b[0m \u001b[0mwindow\u001b[0m\u001b[0;34m)\u001b[0m\u001b[0;34m\u001b[0m\u001b[0;34m\u001b[0m\u001b[0m\n\u001b[0m\u001b[1;32m     14\u001b[0m     \u001b[0mti\u001b[0m\u001b[0;34m.\u001b[0m\u001b[0mappend\u001b[0m\u001b[0;34m(\u001b[0m\u001b[0;34m[\u001b[0m\u001b[0mUpper\u001b[0m\u001b[0;34m]\u001b[0m\u001b[0;34m)\u001b[0m\u001b[0;34m\u001b[0m\u001b[0;34m\u001b[0m\u001b[0m\n\u001b[1;32m     15\u001b[0m     \u001b[0mti\u001b[0m\u001b[0;34m.\u001b[0m\u001b[0mappend\u001b[0m\u001b[0;34m(\u001b[0m\u001b[0;34m[\u001b[0m\u001b[0mLower\u001b[0m\u001b[0;34m]\u001b[0m\u001b[0;34m)\u001b[0m\u001b[0;34m\u001b[0m\u001b[0;34m\u001b[0m\u001b[0m\n",
      "\u001b[0;31mNameError\u001b[0m: name 'window' is not defined"
     ]
    }
   ],
   "source": [
    "# Generate Technical Indicators\n",
    "history_close = history[:, :, 3]\n",
    "print('history_close.shape: {}'.format(history_close.shape))\n",
    "technical_indicators = []\n",
    "for i in range(history_close.shape[0]):\n",
    "    # Create List\n",
    "    ti = []\n",
    "    ti.append([moving_average(history_close[i], window_length)])\n",
    "    ti.append([moving_average(history_close[i], round(window_length/2))])\n",
    "    #ti.append([momentum(history_close[i], window_length)])\n",
    "    ti.append([rate_of_change(history_close[i], window_length)])\n",
    "\n",
    "    Upper, Lower = bollinger_bands(history_close[i], window_length)\n",
    "    ti.append([Upper])\n",
    "    ti.append([Lower])\n",
    "    ti.append([standard_deviation(history_close[i], window_length)])\n",
    "    \n",
    "    # Turn to Array\n",
    "    ti = np.vstack(ti)\n",
    "    technical_indicators.append(ti)\n",
    "technical_indicators.shape"
   ]
  },
  {
   "cell_type": "code",
   "execution_count": 14,
   "metadata": {},
   "outputs": [
    {
     "data": {
      "text/plain": [
       "array([[  5.390625  ,   5.328125  ,   5.34375   , ..., 303.23001099,\n",
       "        304.1499939 , 311.76998901],\n",
       "       [ 10.08333302,  10.02777767,   9.97222233, ..., 272.32998657,\n",
       "        272.10998535, 277.70999146],\n",
       "       [ 23.375     ,  23.3125    ,  23.375     , ..., 166.08000183,\n",
       "        163.6000061 , 165.25999451],\n",
       "       ...,\n",
       "       [  3.984375  ,   3.9765625 ,   4.0078125 , ...,  51.43000031,\n",
       "         51.18999863,  51.77999878],\n",
       "       [  1.89583337,   1.90972221,   1.89583337, ...,  39.13000107,\n",
       "         39.06000137,  39.38999939],\n",
       "       [  5.59375   ,   5.59375   ,   5.59375   , ...,  36.06999969,\n",
       "         35.38000107,  35.91999817]])"
      ]
     },
     "execution_count": 14,
     "metadata": {},
     "output_type": "execute_result"
    }
   ],
   "source": [
    "history_close"
   ]
  },
  {
   "cell_type": "code",
   "execution_count": null,
   "metadata": {
    "scrolled": true
   },
   "outputs": [],
   "source": [
    "# setup environment\n",
    "env = PortfolioEnv(history, assets, date_list, end_date=train_end_date, steps=steps, window_length=window_length)\n",
    "\n",
    "nb_classes = len(assets) + 1\n",
    "action_dim = [nb_classes]\n",
    "state_dim = [nb_classes, window_length]\n",
    "batch_size = 64\n",
    "action_bound = 1.\n",
    "tau = 1e-3"
   ]
  },
  {
   "cell_type": "code",
   "execution_count": null,
   "metadata": {},
   "outputs": [],
   "source": [
    "actor_noise = OrnsteinUhlenbeckActionNoise(mu=np.zeros(action_dim))\n",
    "model_save_path = get_model_path(framework, window_length, predictor_type, use_batch_norm)\n",
    "summary_path = get_result_path(framework, window_length, predictor_type, use_batch_norm)\n",
    "variable_scope = get_variable_scope(framework, window_length, predictor_type, use_batch_norm)"
   ]
  },
  {
   "cell_type": "code",
   "execution_count": null,
   "metadata": {
    "scrolled": true
   },
   "outputs": [],
   "source": [
    "with tf.variable_scope(variable_scope):\n",
    "    sess = tf.Session()\n",
    "    \n",
    "    if(framework == 'DDPG'):\n",
    "        actor = StockActor(sess, state_dim, action_dim, action_bound, 1e-4, tau, batch_size,\n",
    "                           predictor_type, use_batch_norm)\n",
    "        critic = StockCritic(sess=sess, state_dim=state_dim, action_dim=action_dim, tau=1e-3,\n",
    "                             learning_rate=1e-3, num_actor_vars=actor.get_num_trainable_vars(),\n",
    "                             predictor_type=predictor_type, use_batch_norm=use_batch_norm)\n",
    "        model = DDPG(env, sess, actor, critic, actor_noise, obs_normalizer=obs_normalizer, \n",
    "                     log_return=log_return, config_file=config_file_path, \n",
    "                     model_save_path=model_save_path, summary_path=summary_path)\n",
    "        model.initialize(load_weights=False)\n",
    "        print('calling DDPG train')\n",
    "        model.train()\n",
    "        \n",
    "    elif(framework =='TD3'):\n",
    "        actor = TD3StockActor(sess, state_dim, action_dim, action_bound, 1e-4, tau, batch_size,\n",
    "                           predictor_type, use_batch_norm)\n",
    "        critic = TD3StockCritic(sess=sess, state_dim=state_dim, action_dim=action_dim, tau=1e-3,\n",
    "                             learning_rate=1e-3, num_actor_vars=actor.get_num_trainable_vars(),\n",
    "                             predictor_type=predictor_type, use_batch_norm=use_batch_norm, \n",
    "                                log_return=log_return, inp_actions=actor.scaled_out)\n",
    "        model = TD3(env, sess, actor, critic, actor_noise, obs_normalizer=obs_normalizer,\n",
    "                          config_file=config_file_path, model_save_path=model_save_path,\n",
    "                          summary_path=summary_path)\n",
    "        model.initialize(load_weights=False)\n",
    "        print('calling TD3 train')\n",
    "        model.train()\n",
    "        "
   ]
  },
  {
   "cell_type": "code",
   "execution_count": null,
   "metadata": {},
   "outputs": [],
   "source": [
    "def movingaverage(interval, window_size):\n",
    "    window= np.ones(int(window_size))/float(window_size)\n",
    "    return np.convolve(interval, window, 'same')"
   ]
  },
  {
   "cell_type": "code",
   "execution_count": null,
   "metadata": {},
   "outputs": [],
   "source": [
    "# Plot showing the Rewards\n",
    "df = pd.DataFrame()\n",
    "df[\"Episode\"] = range(len(model.ep_rewards))\n",
    "df.set_index('Episode', inplace=True)\n",
    "plt.figure(figsize=(10, 6), dpi=100)\n",
    "plt.title('Episode Rewards')\n",
    "plt.xlabel('Episode')\n",
    "plt.ylabel('Rewards')\n",
    "df['Rewards'] = model.ep_rewards\n",
    "plt.plot(df['Rewards'],label='Rewards')\n",
    "plt.plot(movingaverage(model.ep_rewards, 20), label='Rewards_ma_20')\n",
    "plt.legend()\n",
    "plt.show()"
   ]
  },
  {
   "cell_type": "code",
   "execution_count": null,
   "metadata": {},
   "outputs": [],
   "source": []
  },
  {
   "cell_type": "code",
   "execution_count": null,
   "metadata": {},
   "outputs": [],
   "source": []
  },
  {
   "cell_type": "code",
   "execution_count": null,
   "metadata": {},
   "outputs": [],
   "source": []
  }
 ],
 "metadata": {
  "kernelspec": {
   "display_name": "Python 3",
   "language": "python",
   "name": "python3"
  },
  "language_info": {
   "codemirror_mode": {
    "name": "ipython",
    "version": 3
   },
   "file_extension": ".py",
   "mimetype": "text/x-python",
   "name": "python",
   "nbconvert_exporter": "python",
   "pygments_lexer": "ipython3",
   "version": "3.7.6"
  }
 },
 "nbformat": 4,
 "nbformat_minor": 4
}
